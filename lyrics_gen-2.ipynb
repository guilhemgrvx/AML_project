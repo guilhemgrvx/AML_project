{
 "cells": [
  {
   "cell_type": "code",
   "execution_count": null,
   "metadata": {},
   "outputs": [],
   "source": [
    "pip install transformers"
   ]
  },
  {
   "cell_type": "code",
   "execution_count": null,
   "metadata": {},
   "outputs": [],
   "source": [
    "pip install tensorflow_hub"
   ]
  },
  {
   "cell_type": "code",
   "execution_count": null,
   "metadata": {},
   "outputs": [],
   "source": [
    "pip install tensorflow[and-cuda]"
   ]
  },
  {
   "cell_type": "code",
   "execution_count": 2,
   "metadata": {},
   "outputs": [
    {
     "name": "stderr",
     "output_type": "stream",
     "text": [
      "I0000 00:00:1735925594.490943   84812 gpu_device.cc:2022] Created device /job:localhost/replica:0/task:0/device:GPU:0 with 629 MB memory:  -> device: 0, name: NVIDIA A2, pci bus id: 0000:17:00.0, compute capability: 8.6\n",
      "/opt/conda/lib/python3.12/site-packages/keras/src/saving/saving_lib.py:757: UserWarning: Skipping variable loading for optimizer 'rmsprop', because it has 12 variables whereas the saved optimizer has 22 variables. \n",
      "  saveable.load_own_variables(weights_store.get(inner_path))\n",
      "WARNING: All log messages before absl::InitializeLog() is called are written to STDERR\n",
      "I0000 00:00:1735925596.118665   85454 service.cc:148] XLA service 0x7f147c004d20 initialized for platform CUDA (this does not guarantee that XLA will be used). Devices:\n",
      "I0000 00:00:1735925596.118755   85454 service.cc:156]   StreamExecutor device (0): NVIDIA A2, Compute Capability 8.6\n",
      "2025-01-03 17:33:16.133321: I tensorflow/compiler/mlir/tensorflow/utils/dump_mlir_util.cc:268] disabling MLIR crash reproducer, set env var `MLIR_CRASH_REPRODUCER_DIRECTORY` to enable.\n",
      "I0000 00:00:1735925596.170193   85454 cuda_dnn.cc:529] Loaded cuDNN version 90300\n"
     ]
    },
    {
     "name": "stdout",
     "output_type": "stream",
     "text": [
      "\u001b[1m1/1\u001b[0m \u001b[32m━━━━━━━━━━━━━━━━━━━━\u001b[0m\u001b[37m\u001b[0m \u001b[1m1s\u001b[0m 1s/step\n",
      "Predicted Genre: Pop\n"
     ]
    },
    {
     "name": "stderr",
     "output_type": "stream",
     "text": [
      "I0000 00:00:1735925597.024584   85454 device_compiler.h:188] Compiled cluster using XLA!  This line is logged at most once for the lifetime of the process.\n"
     ]
    }
   ],
   "source": [
    "import tensorflow as tf\n",
    "import os\n",
    "import numpy as np\n",
    "from tensorflow.keras.models import load_model\n",
    "from tensorflow.keras.preprocessing import image\n",
    "import tensorflow_hub as hub\n",
    "from transformers import pipeline\n",
    "\n",
    "\n",
    "cnn_model = load_model(\"cnn_music_genre.keras\")  # Charger le modèle sauvegardé\n",
    "class_names = ['Death Metal', 'Jazz', 'Pop']  # Assurez-vous que l'ordre correspond à l'entraînement\n",
    "\n",
    "# Charger et prétraiter l'image**\n",
    "upload_folder = \"upload\"  \n",
    "uploaded_image_path = next(iter(os.listdir(upload_folder)))  \n",
    "image_path = os.path.join(upload_folder, uploaded_image_path)\n",
    "\n",
    "# Charger et redimensionner l'image\n",
    "img = image.load_img(image_path, target_size=(224, 224))\n",
    "img_array = image.img_to_array(img)\n",
    "img_array = np.expand_dims(img_array, axis=0)  # Ajouter une dimension batch\n",
    "img_array = img_array / 255.0  # Normaliser\n",
    "\n",
    "# **Étape 3 : Prédire le genre musical**\n",
    "predictions = cnn_model.predict(img_array)\n",
    "predicted_class = np.argmax(predictions)  # Classe avec la probabilité la plus élevée\n",
    "genre_predicted = class_names[predicted_class]\n",
    "print(f\"Predicted Genre: {genre_predicted}\")\n",
    "\n",
    "\n"
   ]
  },
  {
   "cell_type": "code",
   "execution_count": null,
   "metadata": {},
   "outputs": [],
   "source": [
    "pip install transformers torch torchvision"
   ]
  },
  {
   "cell_type": "code",
   "execution_count": null,
   "metadata": {},
   "outputs": [],
   "source": [
    "pip install timm"
   ]
  },
  {
   "cell_type": "markdown",
   "metadata": {},
   "source": [
    "Detecter les objets"
   ]
  },
  {
   "cell_type": "code",
   "execution_count": 11,
   "metadata": {},
   "outputs": [
    {
     "name": "stderr",
     "output_type": "stream",
     "text": [
      "Some weights of the model checkpoint at facebook/detr-resnet-50 were not used when initializing DetrForObjectDetection: ['model.backbone.conv_encoder.model.layer1.0.downsample.1.num_batches_tracked', 'model.backbone.conv_encoder.model.layer2.0.downsample.1.num_batches_tracked', 'model.backbone.conv_encoder.model.layer3.0.downsample.1.num_batches_tracked', 'model.backbone.conv_encoder.model.layer4.0.downsample.1.num_batches_tracked']\n",
      "- This IS expected if you are initializing DetrForObjectDetection from the checkpoint of a model trained on another task or with another architecture (e.g. initializing a BertForSequenceClassification model from a BertForPreTraining model).\n",
      "- This IS NOT expected if you are initializing DetrForObjectDetection from the checkpoint of a model that you expect to be exactly identical (initializing a BertForSequenceClassification model from a BertForSequenceClassification model).\n"
     ]
    },
    {
     "name": "stdout",
     "output_type": "stream",
     "text": [
      "Detected Objects: person\n"
     ]
    }
   ],
   "source": [
    "from transformers import DetrImageProcessor, DetrForObjectDetection\n",
    "import torch\n",
    "from PIL import Image\n",
    "\n",
    "# Charger l'image (remplace le chemin par celui de ton image)\n",
    "image_path = \"/home/onyxia/work/AML_project/upload/71ZvezJ2OoL.jpg\"\n",
    "image = Image.open(image_path)\n",
    "\n",
    "# Charger le modèle de détection d'objets et le processeur\n",
    "processor = DetrImageProcessor.from_pretrained(\"facebook/detr-resnet-50\")\n",
    "model = DetrForObjectDetection.from_pretrained(\"facebook/detr-resnet-50\")\n",
    "\n",
    "# Préparer l'image pour le modèle\n",
    "inputs = processor(images=image, return_tensors=\"pt\")\n",
    "\n",
    "# Effectuer la détection\n",
    "outputs = model(**inputs)\n",
    "\n",
    "# Objets détectés\n",
    "target_sizes = torch.tensor([image.size[::-1]])\n",
    "results = processor.post_process_object_detection(outputs, target_sizes=target_sizes, threshold=0.9)[0]\n",
    "\n",
    "# Extraire les labels des objets détectés\n",
    "labels = results['labels']  # Accède aux labels détectés\n",
    "objects = [model.config.id2label[label.item()] for label in labels]  # Traduction des labels en objets\n",
    "\n",
    "# Convertir la liste des objets en chaîne séparée par des virgules\n",
    "objects_string = ', '.join(objects)\n",
    "\n",
    "print(\"Detected Objects:\", objects_string)\n"
   ]
  },
  {
   "cell_type": "code",
   "execution_count": null,
   "metadata": {},
   "outputs": [
    {
     "name": "stderr",
     "output_type": "stream",
     "text": [
      "/opt/conda/lib/python3.12/site-packages/tqdm/auto.py:21: TqdmWarning: IProgress not found. Please update jupyter and ipywidgets. See https://ipywidgets.readthedocs.io/en/stable/user_install.html\n",
      "  from .autonotebook import tqdm as notebook_tqdm\n",
      "2025-01-03 17:32:25.726560: I tensorflow/core/util/port.cc:153] oneDNN custom operations are on. You may see slightly different numerical results due to floating-point round-off errors from different computation orders. To turn them off, set the environment variable `TF_ENABLE_ONEDNN_OPTS=0`.\n",
      "2025-01-03 17:32:25.748322: E external/local_xla/xla/stream_executor/cuda/cuda_fft.cc:477] Unable to register cuFFT factory: Attempting to register factory for plugin cuFFT when one has already been registered\n",
      "WARNING: All log messages before absl::InitializeLog() is called are written to STDERR\n",
      "E0000 00:00:1735925545.772864   84812 cuda_dnn.cc:8310] Unable to register cuDNN factory: Attempting to register factory for plugin cuDNN when one has already been registered\n",
      "E0000 00:00:1735925545.780062   84812 cuda_blas.cc:1418] Unable to register cuBLAS factory: Attempting to register factory for plugin cuBLAS when one has already been registered\n",
      "2025-01-03 17:32:25.806358: I tensorflow/core/platform/cpu_feature_guard.cc:210] This TensorFlow binary is optimized to use available CPU instructions in performance-critical operations.\n",
      "To enable the following instructions: AVX2 AVX512F AVX512_VNNI FMA, in other operations, rebuild TensorFlow with the appropriate compiler flags.\n",
      "Device set to use cuda:0\n",
      "Truncation was not explicitly activated but `max_length` is provided a specific value, please use `truncation=True` to explicitly truncate examples to max length. Defaulting to 'longest_first' truncation strategy. If you encode pairs of sequences (GLUE-style) with the tokenizer you can select this strategy more precisely by providing a specific strategy to `truncation`.\n",
      "Setting `pad_token_id` to `eos_token_id`:50256 for open-end generation.\n"
     ]
    },
    {
     "name": "stdout",
     "output_type": "stream",
     "text": [
      "Generated Lyrics:\n",
      "Write lyrics for a pop song talking about love, dreams, night.\n",
      "\n",
      "To celebrate, he did a bunch of shows and we watched a lot of them in the evening. We were going in a little different direction, so that was the first time I really considered going out. I was really in the right place at the right time.\n",
      "\n",
      "Jenny and I went out in the afternoon for a bit and talked very loudly. It was the best time of the day.\n",
      "\n",
      "When I say 'hush' I'm talking about my life and how you could have gone into it better than mine.\n",
      "\n",
      "Do you think that this song has a unique place in pop music?\n",
      "\n",
      "Yeah, I think it has a uniquely good place that it's not just about the lyrics, but I'm the only one who's ever really talked about that.\n",
      "\n",
      "What I thought of the song was one of my favorites — I think you have to see it as someone who is\n"
     ]
    }
   ],
   "source": [
    "from transformers import pipeline\n",
    "\n",
    "# Générateur de texte GPT-2\n",
    "generator = pipeline(\"text-generation\", model=\"gpt2\")\n",
    "\n",
    "# Prompt pour générer les paroles\n",
    "genre_predicted = \"pop\"  # Exemple de genre prédéfini\n",
    "objects_list = [\"love\", \"dreams\", \"night\"]  # Liste d'objets pour la chanson\n",
    "\n",
    "# Création du prompt\n",
    "prompt = f\"Write lyrics for a {genre_predicted} song talking about {', '.join(objects_list)}.\"\n",
    "\n",
    "# Génération des paroles\n",
    "lyrics = generator(prompt, max_length=100, num_return_sequences=1)\n",
    "\n",
    "print(\"Generated Lyrics:\")\n",
    "print(lyrics[0]['generated_text'])\n"
   ]
  }
 ],
 "metadata": {
  "kernelspec": {
   "display_name": "base",
   "language": "python",
   "name": "python3"
  },
  "language_info": {
   "codemirror_mode": {
    "name": "ipython",
    "version": 3
   },
   "file_extension": ".py",
   "mimetype": "text/x-python",
   "name": "python",
   "nbconvert_exporter": "python",
   "pygments_lexer": "ipython3",
   "version": "3.12.7"
  }
 },
 "nbformat": 4,
 "nbformat_minor": 2
}
